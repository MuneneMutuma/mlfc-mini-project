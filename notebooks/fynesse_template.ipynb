{
 "cells": [
  {
   "cell_type": "markdown",
   "id": "9d4dfd75",
   "metadata": {},
   "source": [
    "# Fynesse Template Notebook\n",
    "\n",
    "This notebook will guide the Access–Assess–Address workflow for the Urban Accessibility project."
   ]
  }
 ],
 "metadata": {
  "language_info": {
   "name": "python"
  }
 },
 "nbformat": 4,
 "nbformat_minor": 5
}
