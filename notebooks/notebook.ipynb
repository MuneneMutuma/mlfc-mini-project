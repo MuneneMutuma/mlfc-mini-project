{
 "cells": [
  {
   "cell_type": "markdown",
   "id": "9d4dfd75",
   "metadata": {},
   "source": [
    "# Urban Accessibility\n",
    "\n",
    "This notebook will guide the Access–Assess–Address workflow for the Urban Accessibility project."
   ]
  },
  {
   "cell_type": "markdown",
   "id": "f258de4f",
   "metadata": {},
   "source": []
  }
 ],
 "metadata": {
  "language_info": {
   "name": "python"
  }
 },
 "nbformat": 4,
 "nbformat_minor": 5
}
